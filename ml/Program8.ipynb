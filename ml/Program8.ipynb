{
 "cells": [
  {
   "cell_type": "code",
   "execution_count": 1,
   "id": "810ec22b-8b91-4bdd-98ca-f75a8ac48029",
   "metadata": {},
   "outputs": [
    {
     "name": "stdin",
     "output_type": "stream",
     "text": [
      "Enter the size of the house is sqft:  1500\n",
      "Enter the number of bedrooms:  2\n"
     ]
    },
    {
     "name": "stdout",
     "output_type": "stream",
     "text": [
      "The predicted price for a house with sqft 1500.0 and 2 bedrooms is : Rs.334047.06\n"
     ]
    }
   ],
   "source": [
    "import numpy as np\n",
    "from sklearn.linear_model import LinearRegression\n",
    "\n",
    "# dummy data\n",
    "X=np.array([[1000,2],[1200,3],[900,2],[1800,3],[2500,4]])\n",
    "y=np.array([300000,350000,272000,400000,500000])\n",
    "\n",
    "model=LinearRegression()\n",
    "\n",
    "model.fit(X,y)\n",
    "\n",
    "size=float(input(\"Enter the size of the house is sqft: \"))\n",
    "rooms=int(input(\"Enter the number of bedrooms: \"))\n",
    "new_data=np.array([[size,rooms]])\n",
    "\n",
    "price=model.predict(new_data)\n",
    "\n",
    "print(\"The predicted price for a house with sqft {} and {} bedrooms is : Rs.{:.2f}\".format(size,rooms,price[0]))"
   ]
  },
  {
   "cell_type": "code",
   "execution_count": null,
   "id": "4b5e5f41-b3ed-4694-bd87-09236b1f31c4",
   "metadata": {},
   "outputs": [],
   "source": []
  }
 ],
 "metadata": {
  "kernelspec": {
   "display_name": "Python 3 (ipykernel)",
   "language": "python",
   "name": "python3"
  },
  "language_info": {
   "codemirror_mode": {
    "name": "ipython",
    "version": 3
   },
   "file_extension": ".py",
   "mimetype": "text/x-python",
   "name": "python",
   "nbconvert_exporter": "python",
   "pygments_lexer": "ipython3",
   "version": "3.13.5"
  }
 },
 "nbformat": 4,
 "nbformat_minor": 5
}
