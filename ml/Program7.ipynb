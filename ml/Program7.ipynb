{
 "cells": [
  {
   "cell_type": "code",
   "execution_count": 13,
   "id": "a8190fb0-ca0a-4e3d-8f78-8126345a64d9",
   "metadata": {},
   "outputs": [
    {
     "name": "stdout",
     "output_type": "stream",
     "text": [
      "Accuracy on the test set: 0.50\n"
     ]
    },
    {
     "name": "stdin",
     "output_type": "stream",
     "text": [
      "Enter Exam score 1:  49\n",
      "Enter Exam score 2:  48\n"
     ]
    },
    {
     "name": "stdout",
     "output_type": "stream",
     "text": [
      "Based on the exam scores provided, the student is predicted to fail\n"
     ]
    }
   ],
   "source": [
    "import numpy as np\n",
    "from sklearn.model_selection import train_test_split\n",
    "from sklearn.neighbors import KNeighborsClassifier\n",
    "from sklearn.metrics import accuracy_score\n",
    "\n",
    "# dummy data\n",
    "X=np.array([[55,60],[60,70],[40,55],[55,35],[60,48],[50,60],[90,50],[45,90],[90,45],[90,70]])\n",
    "y=np.array([1,1,0,0,0,1,1,0,0,1])\n",
    "\n",
    "# split the data\n",
    "X_train,X_test,y_train,y_test= train_test_split(X,y,test_size=0.2,random_state=42)\n",
    "\n",
    "# intialise the knn clasifier with k=3\n",
    "knn= KNeighborsClassifier(n_neighbors=3)\n",
    "\n",
    "# train the classifier with the data\n",
    "knn.fit(X_train,y_train)\n",
    "\n",
    "# evaluate the classifiers performance\n",
    "y_pred= knn.predict(X_test)\n",
    "accuracy= accuracy_score(y_test,y_pred)\n",
    "print(\"Accuracy on the test set: {:.2f}\".format(accuracy))\n",
    "\n",
    "# take user input\n",
    "e1=float(input(\"Enter Exam score 1: \"))\n",
    "e2=float(input(\"Enter Exam score 2: \"))\n",
    "\n",
    "# prepare the user input for prediction\n",
    "user_input= np.array([[e1,e2]])\n",
    "\n",
    "# use the trained classifier to predict the outcome\n",
    "outcome= knn.predict(user_input)\n",
    "\n",
    "if outcome[0]==1:\n",
    "    print(\"Based on the exam scores provided, the student is predicted to pass\")\n",
    "else:\n",
    "    print(\"Based on the exam scores provided, the student is predicted to fail\")\n"
   ]
  },
  {
   "cell_type": "code",
   "execution_count": null,
   "id": "2bbcbad4-9475-4103-9823-6f19ddf38d0d",
   "metadata": {},
   "outputs": [],
   "source": []
  }
 ],
 "metadata": {
  "kernelspec": {
   "display_name": "Python 3 (ipykernel)",
   "language": "python",
   "name": "python3"
  },
  "language_info": {
   "codemirror_mode": {
    "name": "ipython",
    "version": 3
   },
   "file_extension": ".py",
   "mimetype": "text/x-python",
   "name": "python",
   "nbconvert_exporter": "python",
   "pygments_lexer": "ipython3",
   "version": "3.13.5"
  }
 },
 "nbformat": 4,
 "nbformat_minor": 5
}
