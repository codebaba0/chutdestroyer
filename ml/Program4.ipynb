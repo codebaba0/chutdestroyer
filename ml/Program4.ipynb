{
 "cells": [
  {
   "cell_type": "code",
   "execution_count": 9,
   "id": "ddd41e81-8057-4b62-b717-65d04d5d3153",
   "metadata": {},
   "outputs": [
    {
     "name": "stdout",
     "output_type": "stream",
     "text": [
      "CSV File data:\n",
      "   Name  Age  Score\n",
      "0  Mary   22     89\n",
      "1   Raj   28     80\n",
      "2   Jay   24     90\n",
      "Excel File data:\n",
      "    Name Course  Sem\n",
      "0   Josh    BCA    4\n",
      "1    Jim    BBA    6\n",
      "2  Larey    BBA    2\n",
      "3  Susan   BCOM    3\n",
      "Data Descriptions:\n",
      "\n",
      "CSV Data Description\n",
      "             Age      Score\n",
      "count   3.000000   3.000000\n",
      "mean   24.666667  86.333333\n",
      "std     3.055050   5.507571\n",
      "min    22.000000  80.000000\n",
      "25%    23.000000  84.500000\n",
      "50%    24.000000  89.000000\n",
      "75%    26.000000  89.500000\n",
      "max    28.000000  90.000000\n",
      "\n",
      " Excel Data Description\n",
      "            Sem\n",
      "count  4.000000\n",
      "mean   3.750000\n",
      "std    1.707825\n",
      "min    2.000000\n",
      "25%    2.750000\n",
      "50%    3.500000\n",
      "75%    4.500000\n",
      "max    6.000000\n",
      "\n",
      " Data types is CSV file:\n",
      "Name     object\n",
      "Age       int64\n",
      "Score     int64\n",
      "dtype: object\n",
      "\n",
      " Data types is Excel file:\n",
      "Name      object\n",
      "Course    object\n",
      "Sem        int64\n",
      "dtype: object\n"
     ]
    }
   ],
   "source": [
    "import pandas as pd\n",
    "\n",
    "csv= \"C:\\\\Users\\\\max00\\\\Downloads\\\\ML programs\\\\sample_data.csv\"\n",
    "excel= \"C:\\\\Users\\\\max00\\\\Downloads\\\\ML programs\\\\sample_data.xlsx\"\n",
    "\n",
    "data_csv= pd.read_csv(csv)\n",
    "print(\"CSV File data:\")\n",
    "print(data_csv)\n",
    "\n",
    "data_excel= pd.read_excel(excel)\n",
    "print(\"Excel File data:\")\n",
    "print(data_excel)\n",
    "\n",
    "print(\"Data Descriptions:\")\n",
    "print(\"\\nCSV Data Description\")\n",
    "print(data_csv.describe())\n",
    "\n",
    "print(\"\\n Excel Data Description\")\n",
    "print(data_excel.describe())\n",
    "\n",
    "print(\"\\n Data types is CSV file:\")\n",
    "print(data_csv.dtypes)\n",
    "\n",
    "print(\"\\n Data types is Excel file:\")\n",
    "print(data_excel.dtypes)"
   ]
  },
  {
   "cell_type": "code",
   "execution_count": null,
   "id": "79a23b26-a033-4414-b1c2-87eff0749b65",
   "metadata": {},
   "outputs": [],
   "source": []
  }
 ],
 "metadata": {
  "kernelspec": {
   "display_name": "Python 3 (ipykernel)",
   "language": "python",
   "name": "python3"
  },
  "language_info": {
   "codemirror_mode": {
    "name": "ipython",
    "version": 3
   },
   "file_extension": ".py",
   "mimetype": "text/x-python",
   "name": "python",
   "nbconvert_exporter": "python",
   "pygments_lexer": "ipython3",
   "version": "3.13.5"
  }
 },
 "nbformat": 4,
 "nbformat_minor": 5
}
