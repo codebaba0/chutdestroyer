{
 "cells": [
  {
   "cell_type": "code",
   "execution_count": 2,
   "id": "33bcb281-5130-483f-bc4c-e0b2faba0320",
   "metadata": {},
   "outputs": [
    {
     "name": "stdout",
     "output_type": "stream",
     "text": [
      "Data after handling missing values\n",
      "    Age  Gender   Income\n",
      "0  24.0    Male  29000.0\n",
      "1  45.0    Male  34000.0\n",
      "2  56.0  Female  42000.0\n",
      "3  45.8    Male  50000.0\n",
      "4  65.0  Female  42000.0\n",
      "5  39.0  Female  55000.0\n",
      "\n",
      " The data after categorical encoding: \n",
      "   Gender_Female  Gender_Male\n",
      "0            0.0          1.0\n",
      "1            0.0          1.0\n",
      "2            1.0          0.0\n",
      "3            0.0          1.0\n",
      "4            1.0          0.0\n",
      "5            1.0          0.0\n",
      "\n",
      " Data after feature scaling:\n",
      "     Scaled Age  Scaled Income\n",
      "0 -1.693028e+00      -1.475115\n",
      "1 -6.212948e-02      -0.907763\n",
      "2  7.921509e-01       0.000000\n",
      "3 -5.518206e-16       0.907763\n",
      "4  1.491108e+00       0.000000\n",
      "5 -5.281006e-01       1.475115\n"
     ]
    }
   ],
   "source": [
    "import pandas as pd\n",
    "from sklearn.impute import SimpleImputer\n",
    "from sklearn.preprocessing import OneHotEncoder, StandardScaler\n",
    "\n",
    "# dummy data\n",
    "data = {\n",
    " 'Age': [24,45,56,None,65,39],\n",
    " 'Gender': [\"Male\",\"Male\",\"Female\",\"Male\",\"Female\",\"Female\"],\n",
    " 'Income': [29000,34000,None,50000,None,55000]\n",
    "}\n",
    "\n",
    "df= pd.DataFrame(data)\n",
    "# handling missing data\n",
    "impute= SimpleImputer(strategy=\"mean\")\n",
    "df[[\"Age\",\"Income\"]]=impute.fit_transform(df[[\"Age\",\"Income\"]])\n",
    "print(\"Data after handling missing values\")\n",
    "print(df)\n",
    "\n",
    "# encoding categorical variables\n",
    "encoder= OneHotEncoder()\n",
    "encoded_data= encoder.fit_transform(df[[\"Gender\"]]).toarray()\n",
    "encoded_df= pd.DataFrame(encoded_data,columns=encoder.get_feature_names_out([\"Gender\"]))\n",
    "print(\"\\n The data after categorical encoding: \")\n",
    "print(encoded_df)\n",
    "\n",
    "# feature scaling\n",
    "scaler= StandardScaler()\n",
    "scaled_data= scaler.fit_transform(df[[\"Age\",\"Income\"]])\n",
    "scaled_df= pd.DataFrame(scaled_data,columns=[\"Scaled Age\",\"Scaled Income\"])\n",
    "print(\"\\n Data after feature scaling:\")\n",
    "print(scaled_df)"
   ]
  },
  {
   "cell_type": "code",
   "execution_count": null,
   "id": "e9da7a79-e1c9-452e-909e-1a5f7175c9a7",
   "metadata": {},
   "outputs": [],
   "source": []
  }
 ],
 "metadata": {
  "kernelspec": {
   "display_name": "Python 3 (ipykernel)",
   "language": "python",
   "name": "python3"
  },
  "language_info": {
   "codemirror_mode": {
    "name": "ipython",
    "version": 3
   },
   "file_extension": ".py",
   "mimetype": "text/x-python",
   "name": "python",
   "nbconvert_exporter": "python",
   "pygments_lexer": "ipython3",
   "version": "3.13.5"
  }
 },
 "nbformat": 4,
 "nbformat_minor": 5
}
